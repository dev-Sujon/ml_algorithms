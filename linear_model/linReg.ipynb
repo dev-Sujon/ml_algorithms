{
 "cells": [
  {
   "cell_type": "code",
   "execution_count": 1,
   "id": "64115749-5753-4c8b-8bd8-c4a811805164",
   "metadata": {
    "tags": []
   },
   "outputs": [],
   "source": [
    "import pandas as pd\n",
    "import numpy as np\n",
    "import seaborn as sns\n",
    "\n",
    "# importing necessary libraries\n",
    "from sklearn.model_selection import train_test_split\n",
    "from sklearn.linear_model import LinearRegression\n",
    "from sklearn.ensemble import RandomForestRegressor\n",
    "from sklearn.metrics import mean_squared_error"
   ]
  },
  {
   "cell_type": "code",
   "execution_count": 2,
   "id": "591f5267-69f5-4323-bdb5-7d9a9a2b0ec2",
   "metadata": {
    "tags": []
   },
   "outputs": [],
   "source": [
    "#Reading csv file\n",
    "url = \"http://bit.ly/w-data\"\n",
    "data=pd.read_csv(url)"
   ]
  },
  {
   "cell_type": "code",
   "execution_count": 5,
   "id": "d6d0582a-4aff-49ef-97d4-6a6117b9bb60",
   "metadata": {
    "tags": []
   },
   "outputs": [
    {
     "data": {
      "text/html": [
       "<div>\n",
       "<style scoped>\n",
       "    .dataframe tbody tr th:only-of-type {\n",
       "        vertical-align: middle;\n",
       "    }\n",
       "\n",
       "    .dataframe tbody tr th {\n",
       "        vertical-align: top;\n",
       "    }\n",
       "\n",
       "    .dataframe thead th {\n",
       "        text-align: right;\n",
       "    }\n",
       "</style>\n",
       "<table border=\"1\" class=\"dataframe\">\n",
       "  <thead>\n",
       "    <tr style=\"text-align: right;\">\n",
       "      <th></th>\n",
       "      <th>Hours</th>\n",
       "      <th>Scores</th>\n",
       "    </tr>\n",
       "  </thead>\n",
       "  <tbody>\n",
       "    <tr>\n",
       "      <th>0</th>\n",
       "      <td>2.5</td>\n",
       "      <td>21</td>\n",
       "    </tr>\n",
       "    <tr>\n",
       "      <th>1</th>\n",
       "      <td>5.1</td>\n",
       "      <td>47</td>\n",
       "    </tr>\n",
       "    <tr>\n",
       "      <th>2</th>\n",
       "      <td>3.2</td>\n",
       "      <td>27</td>\n",
       "    </tr>\n",
       "    <tr>\n",
       "      <th>3</th>\n",
       "      <td>8.5</td>\n",
       "      <td>75</td>\n",
       "    </tr>\n",
       "    <tr>\n",
       "      <th>4</th>\n",
       "      <td>3.5</td>\n",
       "      <td>30</td>\n",
       "    </tr>\n",
       "  </tbody>\n",
       "</table>\n",
       "</div>"
      ],
      "text/plain": [
       "   Hours  Scores\n",
       "0    2.5      21\n",
       "1    5.1      47\n",
       "2    3.2      27\n",
       "3    8.5      75\n",
       "4    3.5      30"
      ]
     },
     "execution_count": 5,
     "metadata": {},
     "output_type": "execute_result"
    }
   ],
   "source": [
    "sdf=data.copy()\n",
    "sdf.head()"
   ]
  },
  {
   "cell_type": "code",
   "execution_count": 6,
   "id": "23000fd6-86db-4bcf-892d-e357593731a2",
   "metadata": {
    "tags": []
   },
   "outputs": [
    {
     "name": "stdout",
     "output_type": "stream",
     "text": [
      "<class 'pandas.core.frame.DataFrame'>\n",
      "RangeIndex: 25 entries, 0 to 24\n",
      "Data columns (total 2 columns):\n",
      " #   Column  Non-Null Count  Dtype  \n",
      "---  ------  --------------  -----  \n",
      " 0   Hours   25 non-null     float64\n",
      " 1   Scores  25 non-null     int64  \n",
      "dtypes: float64(1), int64(1)\n",
      "memory usage: 532.0 bytes\n"
     ]
    }
   ],
   "source": [
    "# structure of a dataset\n",
    "sdf.info()"
   ]
  },
  {
   "cell_type": "code",
   "execution_count": 7,
   "id": "358b7626-90dd-40ec-b640-49da796fd76a",
   "metadata": {
    "tags": []
   },
   "outputs": [
    {
     "name": "stdout",
     "output_type": "stream",
     "text": [
      "    Hours  Scores\n",
      "0     2.5      21\n",
      "1     5.1      47\n",
      "2     3.2      27\n",
      "3     8.5      75\n",
      "4     3.5      30\n",
      "5     1.5      20\n",
      "6     9.2      88\n",
      "7     5.5      60\n",
      "8     8.3      81\n",
      "9     2.7      25\n",
      "10    7.7      85\n",
      "11    5.9      62\n",
      "12    4.5      41\n",
      "13    3.3      42\n",
      "14    1.1      17\n",
      "15    8.9      95\n",
      "16    2.5      30\n",
      "17    1.9      24\n",
      "18    6.1      67\n",
      "19    7.4      69\n",
      "20    2.7      30\n",
      "21    4.8      54\n",
      "22    3.8      35\n",
      "23    6.9      76\n",
      "24    7.8      86\n"
     ]
    }
   ],
   "source": [
    "print(sdf)"
   ]
  },
  {
   "cell_type": "code",
   "execution_count": 9,
   "id": "631b0c04-a245-4816-976f-97d0d1550655",
   "metadata": {
    "tags": []
   },
   "outputs": [],
   "source": [
    "#seperating input and output features\n",
    "x1=sdf.iloc[:, :-1].values \n",
    "y1=sdf.iloc[:, 1].values\n"
   ]
  },
  {
   "cell_type": "code",
   "execution_count": 12,
   "id": "42ec2352-2385-4070-ac49-4b5a0f043e65",
   "metadata": {
    "tags": []
   },
   "outputs": [],
   "source": [
    "#splitting data into test and train\n",
    "X_train,X_test,Y_train,Y_test=train_test_split(x1,y1,test_size=.3,random_state=0)\n"
   ]
  },
  {
   "cell_type": "code",
   "execution_count": 13,
   "id": "87a8446e-6372-4933-a8dc-697a4cdf704b",
   "metadata": {
    "tags": []
   },
   "outputs": [],
   "source": [
    "lgr=LinearRegression(fit_intercept=True)\n",
    "mode_lini=lgr.fit(X_train,Y_train)\n",
    "predict=lgr.predict(X_test)"
   ]
  },
  {
   "cell_type": "code",
   "execution_count": 15,
   "id": "6adfd942-33ff-444a-8977-6ffe9b6eeadf",
   "metadata": {
    "tags": []
   },
   "outputs": [
    {
     "name": "stdout",
     "output_type": "stream",
     "text": [
      "Mean Squared Error-   4.792191274636315\n"
     ]
    }
   ],
   "source": [
    "#Comuting MSE (Model Evaluation)\n",
    "mse1=mean_squared_error(Y_test,predict)\n",
    "rmse=np.sqrt(mse1)\n",
    "print(\"Mean Squared Error-  \",rmse)"
   ]
  },
  {
   "cell_type": "code",
   "execution_count": 18,
   "id": "9df0ed91-5f94-4037-88a4-0447f89c0a83",
   "metadata": {
    "tags": []
   },
   "outputs": [
    {
     "name": "stdout",
     "output_type": "stream",
     "text": [
      "Residuals -  [ 2.94633459 -6.69422878 -5.80620886  3.1577679   1.87664117 -4.56736879\n",
      "  3.03090791  7.27836446]\n"
     ]
    }
   ],
   "source": [
    "#Regression Dignostics\n",
    "residuals=Y_test-predict\n",
    "print(\"Residuals - \",residuals)"
   ]
  },
  {
   "cell_type": "code",
   "execution_count": 20,
   "id": "44a973ed-dc91-4ff6-8d77-9ba688fdb7e1",
   "metadata": {
    "tags": []
   },
   "outputs": [
    {
     "name": "stdout",
     "output_type": "stream",
     "text": [
      "No of Hours = [9.25]\n",
      "Predicted Score = 92.91505723477056\n"
     ]
    },
    {
     "data": {
      "text/plain": [
       "<seaborn.axisgrid.FacetGrid at 0x7f258b8efbd0>"
      ]
     },
     "execution_count": 20,
     "metadata": {},
     "output_type": "execute_result"
    },
    {
     "data": {
      "image/png": "[encoded data removed]",
      "text/plain": [
       "<Figure size 500x500 with 1 Axes>"
      ]
     },
     "metadata": {},
     "output_type": "display_data"
    }
   ],
   "source": [
    "#print the prediction\n",
    "Hours=[[9.25],[9.26]]\n",
    "pred=lgr.predict(Hours)\n",
    "print(\"No of Hours = {}\".format(Hours[0]))\n",
    "print(\"Predicted Score = {}\".format(pred[0]))\n",
    "\n",
    "\n",
    "#plotting\n",
    "sns.lmplot(x=\"Hours\",y=\"Scores\",data=sdf)"
   ]
  },
  {
   "cell_type": "code",
   "execution_count": null,
   "id": "efd52c50-e282-47de-b865-f67edca98a54",
   "metadata": {},
   "outputs": [],
   "source": []
  }
 ],
 "metadata": {
  "kernelspec": {
   "display_name": "Python 3 (ipykernel)",
   "language": "python",
   "name": "python3"
  },
  "language_info": {
   "codemirror_mode": {
    "name": "ipython",
    "version": 3
   },
   "file_extension": ".py",
   "mimetype": "text/x-python",
   "name": "python",
   "nbconvert_exporter": "python",
   "pygments_lexer": "ipython3",
   "version": "3.11.4"
  }
 },
 "nbformat": 4,
 "nbformat_minor": 5
}
